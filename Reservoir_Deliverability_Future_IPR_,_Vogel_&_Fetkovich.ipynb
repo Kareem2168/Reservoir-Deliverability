{
  "nbformat": 4,
  "nbformat_minor": 0,
  "metadata": {
    "colab": {
      "name": "Reservoir Deliverability-Future IPR , Vogel & Fetkovich",
      "provenance": [],
      "collapsed_sections": [],
      "authorship_tag": "ABX9TyMbg7fqf5Th1+jhdGZSwDTL",
      "include_colab_link": true
    },
    "kernelspec": {
      "name": "python3",
      "display_name": "Python 3"
    },
    "language_info": {
      "name": "python"
    }
  },
  "cells": [
    {
      "cell_type": "markdown",
      "metadata": {
        "id": "view-in-github",
        "colab_type": "text"
      },
      "source": [
        "<a href=\"https://colab.research.google.com/github/Kareem2168/Reservoir-Deliverability/blob/main/Reservoir_Deliverability_Future_IPR_%2C_Vogel_%26_Fetkovich.ipynb\" target=\"_parent\"><img src=\"https://colab.research.google.com/assets/colab-badge.svg\" alt=\"Open In Colab\"/></a>"
      ]
    },
    {
      "cell_type": "code",
      "execution_count": 1,
      "metadata": {
        "id": "S9qiFZjYf2Ti"
      },
      "outputs": [],
      "source": [
        "import numpy as np\n",
        "import pandas as pd\n",
        "import matplotlib.pyplot as plt"
      ]
    },
    {
      "cell_type": "markdown",
      "source": [
        "Determing the future IPR is an important step \n",
        "Here, I will be using the petroleum production book example to illustrate the method\n"
      ],
      "metadata": {
        "id": "T1FwE6ON80td"
      }
    },
    {
      "cell_type": "markdown",
      "source": [
        "Vogel Method"
      ],
      "metadata": {
        "id": "3Ms98tU29MBL"
      }
    },
    {
      "cell_type": "code",
      "source": [
        "#Determine the IPR for a well at the time when the average reservoir pres\u0002sure will be 1800 psig. The following data are obtained from laboratory tests of well fluid samples:\n",
        "#so let us say that we made an IPR model at 2500psi res. pressure, we get the plot\n",
        "#then use the following functions to polot the new IPR plot"
      ],
      "metadata": {
        "id": "QKEDHwi5UL5s"
      },
      "execution_count": 2,
      "outputs": []
    },
    {
      "cell_type": "code",
      "source": [
        "def future_pi(Jp, Krop, Bop, Mop, Krof, Bof, Mof):\n",
        "    Jf=Jp * 1 / ((Krop/(Bop * Mop)) / (Krof/(Bof * Mof)))\n",
        "    return f'Productivity Index : {Jf}'\n",
        "def flow_rate(future_pi, Pf, Pwf):\n",
        "  \n",
        "  for i in Pwf:\n",
        "   \n",
        "\n",
        "    q=((future_pi * Pf)/1.8) * (1 - (0.2 * (i / Pf)) - (0.8 * (i / Pf)**2))   \n",
        "    #return q\n",
        "    print(q)\n",
        "       \n",
        "\n",
        "\n",
        "def Reservoir_Deliverability(qp, Pwfp, qf, Pwff):\n",
        "  figure=plt.figure(figsize=(14,6))\n",
        "  plt.plot(qp, Pwfp, label='IPR_PRESENT')\n",
        "  plt.plot(qf, Pwff, linestyle='--', label='IPR_FUTURE')\n",
        "\n",
        "  plt.xlabel('Flowrate STB/DAY')\n",
        "  plt.ylabel('Bottom Hole Pressure PSI')\n",
        "  plt.title('IPR Model')\n",
        "  plt.legend()\n",
        "\n",
        "  \n",
        "\n",
        "    \n",
        "  "
      ],
      "metadata": {
        "id": "PecUF2Yz9Vrg"
      },
      "execution_count": 3,
      "outputs": []
    },
    {
      "cell_type": "code",
      "source": [
        ""
      ],
      "metadata": {
        "id": "Ye0dWpTB0vXJ"
      },
      "execution_count": 3,
      "outputs": []
    },
    {
      "cell_type": "code",
      "source": [
        "pd.DataFrame(flow_rate(0.75, 1800, [1800,1600,1300,1200,1000]), columns=['Flowrate'])"
      ],
      "metadata": {
        "colab": {
          "base_uri": "https://localhost:8080/",
          "height": 136
        },
        "id": "RyoWvdxHWs8E",
        "outputId": "206a2165-9bb0-4607-f728-117799961c9d"
      },
      "execution_count": 4,
      "outputs": [
        {
          "output_type": "stream",
          "name": "stdout",
          "text": [
            "0.0\n",
            "142.59259259259258\n",
            "328.70370370370364\n",
            "383.3333333333333\n",
            "481.48148148148147\n"
          ]
        },
        {
          "output_type": "execute_result",
          "data": {
            "text/plain": [
              "Empty DataFrame\n",
              "Columns: [Flowrate]\n",
              "Index: []"
            ],
            "text/html": [
              "\n",
              "  <div id=\"df-999b43fa-eed7-4372-a3f5-97319faf3c33\">\n",
              "    <div class=\"colab-df-container\">\n",
              "      <div>\n",
              "<style scoped>\n",
              "    .dataframe tbody tr th:only-of-type {\n",
              "        vertical-align: middle;\n",
              "    }\n",
              "\n",
              "    .dataframe tbody tr th {\n",
              "        vertical-align: top;\n",
              "    }\n",
              "\n",
              "    .dataframe thead th {\n",
              "        text-align: right;\n",
              "    }\n",
              "</style>\n",
              "<table border=\"1\" class=\"dataframe\">\n",
              "  <thead>\n",
              "    <tr style=\"text-align: right;\">\n",
              "      <th></th>\n",
              "      <th>Flowrate</th>\n",
              "    </tr>\n",
              "  </thead>\n",
              "  <tbody>\n",
              "  </tbody>\n",
              "</table>\n",
              "</div>\n",
              "      <button class=\"colab-df-convert\" onclick=\"convertToInteractive('df-999b43fa-eed7-4372-a3f5-97319faf3c33')\"\n",
              "              title=\"Convert this dataframe to an interactive table.\"\n",
              "              style=\"display:none;\">\n",
              "        \n",
              "  <svg xmlns=\"http://www.w3.org/2000/svg\" height=\"24px\"viewBox=\"0 0 24 24\"\n",
              "       width=\"24px\">\n",
              "    <path d=\"M0 0h24v24H0V0z\" fill=\"none\"/>\n",
              "    <path d=\"M18.56 5.44l.94 2.06.94-2.06 2.06-.94-2.06-.94-.94-2.06-.94 2.06-2.06.94zm-11 1L8.5 8.5l.94-2.06 2.06-.94-2.06-.94L8.5 2.5l-.94 2.06-2.06.94zm10 10l.94 2.06.94-2.06 2.06-.94-2.06-.94-.94-2.06-.94 2.06-2.06.94z\"/><path d=\"M17.41 7.96l-1.37-1.37c-.4-.4-.92-.59-1.43-.59-.52 0-1.04.2-1.43.59L10.3 9.45l-7.72 7.72c-.78.78-.78 2.05 0 2.83L4 21.41c.39.39.9.59 1.41.59.51 0 1.02-.2 1.41-.59l7.78-7.78 2.81-2.81c.8-.78.8-2.07 0-2.86zM5.41 20L4 18.59l7.72-7.72 1.47 1.35L5.41 20z\"/>\n",
              "  </svg>\n",
              "      </button>\n",
              "      \n",
              "  <style>\n",
              "    .colab-df-container {\n",
              "      display:flex;\n",
              "      flex-wrap:wrap;\n",
              "      gap: 12px;\n",
              "    }\n",
              "\n",
              "    .colab-df-convert {\n",
              "      background-color: #E8F0FE;\n",
              "      border: none;\n",
              "      border-radius: 50%;\n",
              "      cursor: pointer;\n",
              "      display: none;\n",
              "      fill: #1967D2;\n",
              "      height: 32px;\n",
              "      padding: 0 0 0 0;\n",
              "      width: 32px;\n",
              "    }\n",
              "\n",
              "    .colab-df-convert:hover {\n",
              "      background-color: #E2EBFA;\n",
              "      box-shadow: 0px 1px 2px rgba(60, 64, 67, 0.3), 0px 1px 3px 1px rgba(60, 64, 67, 0.15);\n",
              "      fill: #174EA6;\n",
              "    }\n",
              "\n",
              "    [theme=dark] .colab-df-convert {\n",
              "      background-color: #3B4455;\n",
              "      fill: #D2E3FC;\n",
              "    }\n",
              "\n",
              "    [theme=dark] .colab-df-convert:hover {\n",
              "      background-color: #434B5C;\n",
              "      box-shadow: 0px 1px 3px 1px rgba(0, 0, 0, 0.15);\n",
              "      filter: drop-shadow(0px 1px 2px rgba(0, 0, 0, 0.3));\n",
              "      fill: #FFFFFF;\n",
              "    }\n",
              "  </style>\n",
              "\n",
              "      <script>\n",
              "        const buttonEl =\n",
              "          document.querySelector('#df-999b43fa-eed7-4372-a3f5-97319faf3c33 button.colab-df-convert');\n",
              "        buttonEl.style.display =\n",
              "          google.colab.kernel.accessAllowed ? 'block' : 'none';\n",
              "\n",
              "        async function convertToInteractive(key) {\n",
              "          const element = document.querySelector('#df-999b43fa-eed7-4372-a3f5-97319faf3c33');\n",
              "          const dataTable =\n",
              "            await google.colab.kernel.invokeFunction('convertToInteractive',\n",
              "                                                     [key], {});\n",
              "          if (!dataTable) return;\n",
              "\n",
              "          const docLinkHtml = 'Like what you see? Visit the ' +\n",
              "            '<a target=\"_blank\" href=https://colab.research.google.com/notebooks/data_table.ipynb>data table notebook</a>'\n",
              "            + ' to learn more about interactive tables.';\n",
              "          element.innerHTML = '';\n",
              "          dataTable['output_type'] = 'display_data';\n",
              "          await google.colab.output.renderOutput(dataTable, element);\n",
              "          const docLink = document.createElement('div');\n",
              "          docLink.innerHTML = docLinkHtml;\n",
              "          element.appendChild(docLink);\n",
              "        }\n",
              "      </script>\n",
              "    </div>\n",
              "  </div>\n",
              "  "
            ]
          },
          "metadata": {},
          "execution_count": 4
        }
      ]
    },
    {
      "cell_type": "markdown",
      "source": [
        "Fetkovich Method"
      ],
      "metadata": {
        "id": "b_MavEB2USZn"
      }
    },
    {
      "cell_type": "markdown",
      "source": [
        "If pi is the initial formation\n",
        "pressure (i.e., pe)"
      ],
      "metadata": {
        "id": "NV3vw4_vgYNV"
      }
    },
    {
      "cell_type": "code",
      "source": [
        "def Ji(k, h, re, rw, Kro, Mo, Bo, Pi):\n",
        "  Ji=((0.007082 * k * h)*Kro)/np.log(re/rw) * (Mo* Bo) * 2* Pi\n",
        "\n",
        "  def Q(Ji, Pi, Pwf):\n",
        "    q=Ji * (Pi**2 - Pwf**2)\n"
      ],
      "metadata": {
        "id": "yg0M4-lofbhe"
      },
      "execution_count": 5,
      "outputs": []
    },
    {
      "cell_type": "markdown",
      "source": [
        "when the static pressure\n",
        "is pe (,pi)"
      ],
      "metadata": {
        "id": "h_xB_hIf37eQ"
      }
    },
    {
      "cell_type": "code",
      "source": [
        "def J(Ji, Pe, Pi):\n",
        "  J=Ji * (Pe/Pi)\n",
        "  return J\n",
        "def Q1(J, Pe, Pi):\n",
        "  for Pi in Pi:\n",
        "\n",
        "\n",
        "    q= J * (Pe**2 / Pi**2)\n",
        "    print(q)\n",
        "    #return Q1"
      ],
      "metadata": {
        "id": "ttjrHSi-2NGA"
      },
      "execution_count": 27,
      "outputs": []
    },
    {
      "cell_type": "code",
      "source": [
        "#so first get the J value\n",
        "#then substitute it in Q1\n",
        "#get the flow rate results at the specific pressure you want"
      ],
      "metadata": {
        "id": "6u7r-3SS8QQL"
      },
      "execution_count": null,
      "outputs": []
    }
  ]
}