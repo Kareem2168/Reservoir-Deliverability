{
  "nbformat": 4,
  "nbformat_minor": 0,
  "metadata": {
    "colab": {
      "name": " Horizontal Gas Well Performance, Joshi ",
      "provenance": [],
      "collapsed_sections": [],
      "authorship_tag": "ABX9TyOyC8NM8Z3lpK/ffERK0eMi",
      "include_colab_link": true
    },
    "kernelspec": {
      "name": "python3",
      "display_name": "Python 3"
    },
    "language_info": {
      "name": "python"
    }
  },
  "cells": [
    {
      "cell_type": "markdown",
      "metadata": {
        "id": "view-in-github",
        "colab_type": "text"
      },
      "source": [
        "<a href=\"https://colab.research.google.com/github/Kareem2168/Reservoir-Deliverability/blob/main/Horizontal_Gas_Well_Performance%2C_Joshi.ipynb\" target=\"_parent\"><img src=\"https://colab.research.google.com/assets/colab-badge.svg\" alt=\"Open In Colab\"/></a>"
      ]
    },
    {
      "cell_type": "code",
      "execution_count": 1,
      "metadata": {
        "id": "jbhBaab9AKS6"
      },
      "outputs": [],
      "source": [
        "import numpy as np\n",
        "import pandas as pd\n",
        "import matplotlib.pyplot as plt"
      ]
    },
    {
      "cell_type": "markdown",
      "source": [
        "Joshi Equations\n",
        "\n",
        "Horizontal Gas Well Performance\n",
        "\n",
        "calculating the gas flow rate from a horizontal well"
      ],
      "metadata": {
        "id": "zyF0O2BqBSwy"
      }
    },
    {
      "cell_type": "code",
      "source": [
        "# L = length of the horizontal well, ft\n",
        "# h = thickness, ft\n",
        "# rw = wellbore radius, ft\n",
        "# reh = horizontal well drainage radius, ft\n",
        "# a = half the major axis of the drainage ellipse, ft\n",
        "# A = drainage area of the horizontal well, acres\n",
        "# Qg = gas flow rate, Mscf/day\n",
        "# s = skin factor\n",
        "# k = permeability, md\n",
        "# T = temperature, ◦R"
      ],
      "metadata": {
        "id": "PGhByIKjAL0h"
      },
      "execution_count": null,
      "outputs": []
    },
    {
      "cell_type": "code",
      "source": [
        "class Q():\n",
        "  def __init__(self, k, h, Pr, Pwf, T, MgZ, reh, Rw, s, A, L, a):\n",
        "    self.k=k\n",
        "    self.h=h \n",
        "    self.Pr=Pr \n",
        "    self.Pwf=Pwf \n",
        "    self.T=T \n",
        "    self.MgZ=MgZ \n",
        "    self.reh=reh \n",
        "    self.Rw=Rw \n",
        "    self.s=s\n",
        "    self.A=A\n",
        "    self.L=L \n",
        "    self.a=a \n",
        "\n",
        "\n",
        "  def hwdr(self):\n",
        "    # reh = horizontal well drainage radius, ft\n",
        "    return f'{np.sqrt(43560*self.A/np.pi)} ft '\n",
        "  \n",
        "  def hmade(self):\n",
        "    # a = half the major axis of the drainage ellipse, ft\n",
        "    return f'{((self.L/2)*(0.5 + np.sqrt(0.25 + (2 * (np.sqrt(43560*self.A/np.pi)/self.L))**4))**0.5)} ft'\n",
        "\n",
        "  \n",
        "class R(Q):\n",
        "  def __init__(self,k, h, Pr, Pwf, T, MgZ, reh, Rw, s, A, L, a, rw):\n",
        "    super().__init__(k, h, Pr, Pwf, T, MgZ, reh, Rw, s, A, L, a)\n",
        "    self.rw=rw\n",
        "\n",
        "\n",
        "  def WR(self):\n",
        "    # Rw\\ = wellbore radius, ft\n",
        "    return f'{((np.sqrt(43560*self.A/np.pi)) * (self.L/2)) / (self.a* (1+ (np.sqrt(1-(self.L/(2*self.a))**2))) *(self.h/(2*self.rw))**(self.h/self.L))} ft'\n",
        "\n",
        "  "
      ],
      "metadata": {
        "id": "s2bKCzWeD2LG"
      },
      "execution_count": 27,
      "outputs": []
    },
    {
      "cell_type": "code",
      "source": [
        "#now get the flow rate \n",
        "def Flow_rate(k, h, Pr, Pwf, T, MgZ, reh, Rw, s): \n",
        "  Q=int(((k)*(h)*((Pr)**2 - (Pwf)**2))/((1422 * T * MgZ) * (np.log(reh/Rw)-0.75 +s)))\n",
        "  #return f'Flow Rate of gas in horizontal well : {Q} MMscf/Day'\n",
        "  print(f'Flow Rate of gas in horizontal well : {Q} MMscf/Day')\n"
      ],
      "metadata": {
        "id": "DJ61tgMwelIE"
      },
      "execution_count": 17,
      "outputs": []
    },
    {
      "cell_type": "code",
      "source": [
        "Flow_rate(1.5, 20, 2000, 1200, 640, 0.011826, 1290, 477.54, 0.5)\n"
      ],
      "metadata": {
        "colab": {
          "base_uri": "https://localhost:8080/"
        },
        "id": "3WVmblflepP5",
        "outputId": "6cd5ad4a-76e8-4c1a-e4ec-d7e2fae35464"
      },
      "execution_count": 18,
      "outputs": [
        {
          "output_type": "stream",
          "name": "stdout",
          "text": [
            "Flow Rate of gas in horizontal well : 9594 MMscf/Day\n"
          ]
        }
      ]
    },
    {
      "cell_type": "code",
      "source": [
        "def Flow_rate(k, h, Pr, Pwf, T, MgZ, reh, Rw, s): \n",
        "  for pwf in Pwf:\n",
        "\n",
        "    Q=int(((k)*(h)*((Pr)**2 - (pwf)**2))/((1422 * T * MgZ) * (np.log(reh/Rw)-0.75 +s)))\n",
        "  #return f'Flow Rate of gas in horizontal well : {Q} MMscf/Day'\n",
        "    #print(f'Flow Rate of gas in horizontal well : {Q} MMscf/Day')\n",
        "    print(f'{Q},')\n"
      ],
      "metadata": {
        "id": "FcHO6Jz7jdyS"
      },
      "execution_count": 30,
      "outputs": []
    },
    {
      "cell_type": "code",
      "source": [
        ""
      ],
      "metadata": {
        "id": "FyhF_9PZkhzW"
      },
      "execution_count": null,
      "outputs": []
    }
  ]
}